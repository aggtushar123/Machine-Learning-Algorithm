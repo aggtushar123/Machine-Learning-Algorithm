{
 "cells": [
  {
   "cell_type": "code",
   "execution_count": 3,
   "id": "9566c65d",
   "metadata": {},
   "outputs": [],
   "source": [
    "import numpy as np\n",
    "from matplotlib import pyplot as plt\n",
    "from sklearn.datasets import make_blobs"
   ]
  },
  {
   "cell_type": "code",
   "execution_count": 19,
   "id": "3de2e5c9",
   "metadata": {},
   "outputs": [],
   "source": [
    "X,y = make_blobs(n_samples =500, n_features= 2,centers = 5, random_state= 3)"
   ]
  },
  {
   "cell_type": "code",
   "execution_count": 17,
   "id": "1f4bc79e",
   "metadata": {},
   "outputs": [
    {
     "name": "stdout",
     "output_type": "stream",
     "text": [
      "(500, 2)\n"
     ]
    },
    {
     "data": {
      "text/plain": [
       "array([0, 1, 2])"
      ]
     },
     "execution_count": 17,
     "metadata": {},
     "output_type": "execute_result"
    }
   ],
   "source": [
    "print(X.shape)\n",
    "np.unique(y)"
   ]
  },
  {
   "cell_type": "code",
   "execution_count": 22,
   "id": "4d9bca0f",
   "metadata": {},
   "outputs": [
    {
     "data": {
      "text/plain": [
       "<function matplotlib.pyplot.show(close=None, block=None)>"
      ]
     },
     "execution_count": 22,
     "metadata": {},
     "output_type": "execute_result"
    },
    {
     "data": {
      "image/png": "[encoded data removed]",
      "text/plain": [
       "<Figure size 432x288 with 1 Axes>"
      ]
     },
     "metadata": {
      "needs_background": "light"
     },
     "output_type": "display_data"
    }
   ],
   "source": [
    "plt.scatter(X[:,0],X[:,1])\n",
    "plt.show"
   ]
  },
  {
   "cell_type": "code",
   "execution_count": 24,
   "id": "b5453a93",
   "metadata": {},
   "outputs": [
    {
     "data": {
      "text/plain": [
       "<function matplotlib.pyplot.show(close=None, block=None)>"
      ]
     },
     "execution_count": 24,
     "metadata": {},
     "output_type": "execute_result"
    },
    {
     "data": {
      "image/png": "[encoded data removed]",
      "text/plain": [
       "<Figure size 432x288 with 1 Axes>"
      ]
     },
     "metadata": {
      "needs_background": "light"
     },
     "output_type": "display_data"
    }
   ],
   "source": [
    "#Data Visualise\n",
    "def normalise(X):\n",
    "    u = X.mean(axis=0)\n",
    "    std = X.std(axis = 0)\n",
    "    return (X-u)/std\n",
    "\n",
    "X = normalise(X)\n",
    "\n",
    "plt.scatter(X[:,0],X[:,1])\n",
    "plt.show"
   ]
  },
  {
   "cell_type": "code",
   "execution_count": 33,
   "id": "2ecb8465",
   "metadata": {},
   "outputs": [
    {
     "name": "stdout",
     "output_type": "stream",
     "text": [
      "[0.55917272 1.26038052]\n",
      "[ 0.78483548 -1.72554647]\n",
      "[-1.25617295  0.31815452]\n",
      "[1.41868544 1.01904993]\n",
      "[-0.59551293 -0.53328507]\n"
     ]
    }
   ],
   "source": [
    "#Init the k-centres \n",
    "\n",
    "k =5\n",
    "colors = [\"green\", \"red\", \"blue\", \"yellow\", \"orange\"]\n",
    "n_features = 2\n",
    "\n",
    "centroids = {}\n",
    "\n",
    "for i in range(k):\n",
    "    center = 2*(2*np.random.random((n_features,))-1)\n",
    "    print(center)\n",
    "    \n",
    "    centroids[i] = {\n",
    "        'center' : center,\n",
    "        'color' : colors[i],\n",
    "        'points' : []\n",
    "    }"
   ]
  },
  {
   "cell_type": "code",
   "execution_count": 35,
   "id": "34494f69",
   "metadata": {},
   "outputs": [],
   "source": [
    "def dist(p,q):\n",
    "    return np.sqrt(np.sum((p-q)**2))\n",
    "\n",
    "def assignPtsToCluster(X,centroids):\n",
    "    \n",
    "    m = X.shape[0]\n",
    "    for i in range(m):\n",
    "        \n",
    "        cdist = []\n",
    "        cx = X[i]\n",
    "        #Find distance of point from each centroid\n",
    "        for kx in range(k):\n",
    "            d = dist(centroids[kx]['center'], cx)\n",
    "            cdlist.append(d)\n",
    "            \n",
    "        current_cluster = np.argmin(cdlist)\n",
    "        #assign the points to the lisat of points that current_cluster holds\n",
    "        \n",
    "        centroids[clusterId]['points'].append(cx)\n",
    "            "
   ]
  },
  {
   "cell_type": "code",
   "execution_count": 38,
   "id": "041ae833",
   "metadata": {},
   "outputs": [],
   "source": [
    "def updateClusters(centroids):\n",
    "    \n",
    "    # Update Every Centroid by taking a mean of points assigned to the cluster\n",
    "    for kx in range(k):\n",
    "        pts = np.array(centroids[kx]['points'])\n",
    "        \n",
    "        # if a cluster has non-zero points\n",
    "        if pts.shape[0] > 0:\n",
    "            newCenter = pts.mean(axis=0)\n",
    "            centroids[kx]['center'] = newCenter\n",
    "            centroids[kx]['points'] = []"
   ]
  },
  {
   "cell_type": "code",
   "execution_count": 40,
   "id": "d9d13c30",
   "metadata": {},
   "outputs": [],
   "source": [
    "def plotClusters(centroids):\n",
    "    \n",
    "    for kx in range (k):\n",
    "        \n",
    "        pts = np.array(centroids[kx]['points'])\n",
    "        \n",
    "        if(pts.shape[0]>0):\n",
    "            plt.scatter(pts[:,0],pts[:,1], color = centroids[kx]['color'])\n",
    "            \n",
    "        #plot the cluster center (centroid)\n",
    "        uk = centroids[kx]['center']\n",
    "        plt.scatter(uk[0], uk[1], color= centroids[kx]['color'],marker='*')"
   ]
  }
 ],
 "metadata": {
  "kernelspec": {
   "display_name": "Python 3 (ipykernel)",
   "language": "python",
   "name": "python3"
  },
  "language_info": {
   "codemirror_mode": {
    "name": "ipython",
    "version": 3
   },
   "file_extension": ".py",
   "mimetype": "text/x-python",
   "name": "python",
   "nbconvert_exporter": "python",
   "pygments_lexer": "ipython3",
   "version": "3.9.12"
  }
 },
 "nbformat": 4,
 "nbformat_minor": 5
}
