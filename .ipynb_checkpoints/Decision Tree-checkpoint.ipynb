{
 "cells": [
  {
   "cell_type": "code",
   "execution_count": 1,
   "id": "b13d78b9",
   "metadata": {},
   "outputs": [],
   "source": [
    "#Entropy\n",
    "\n",
    "import numpy as np"
   ]
  },
  {
   "cell_type": "code",
   "execution_count": 2,
   "id": "cf4435b5",
   "metadata": {},
   "outputs": [],
   "source": [
    "Y = np.array([1,0,0,1,0,1,0,1])"
   ]
  },
  {
   "cell_type": "code",
   "execution_count": 11,
   "id": "1540e895",
   "metadata": {},
   "outputs": [],
   "source": [
    "def entropy(var):\n",
    "    N= var.shape[0]\n",
    "    values, counts = np.unique(var, return_counts=True)\n",
    "    \n",
    "    ent = 0.0\n",
    "    \n",
    "    for i in counts:\n",
    "        p = i/N\n",
    "        ent += (p * np.log2(p))\n",
    "        \n",
    "    return -ent"
   ]
  },
  {
   "cell_type": "code",
   "execution_count": 10,
   "id": "75131cf5",
   "metadata": {},
   "outputs": [
    {
     "data": {
      "text/plain": [
       "1.0"
      ]
     },
     "execution_count": 10,
     "metadata": {},
     "output_type": "execute_result"
    }
   ],
   "source": [
    "entropy(Y)"
   ]
  },
  {
   "cell_type": "code",
   "execution_count": 12,
   "id": "ad8540d0",
   "metadata": {},
   "outputs": [],
   "source": [
    "import pandas as pd"
   ]
  },
  {
   "cell_type": "code",
   "execution_count": 14,
   "id": "9442264f",
   "metadata": {},
   "outputs": [],
   "source": [
    "df = pd.read_csv('golf.csv')"
   ]
  },
  {
   "cell_type": "code",
   "execution_count": 15,
   "id": "1834b8d0",
   "metadata": {},
   "outputs": [
    {
     "data": {
      "text/html": [
       "<div>\n",
       "<style scoped>\n",
       "    .dataframe tbody tr th:only-of-type {\n",
       "        vertical-align: middle;\n",
       "    }\n",
       "\n",
       "    .dataframe tbody tr th {\n",
       "        vertical-align: top;\n",
       "    }\n",
       "\n",
       "    .dataframe thead th {\n",
       "        text-align: right;\n",
       "    }\n",
       "</style>\n",
       "<table border=\"1\" class=\"dataframe\">\n",
       "  <thead>\n",
       "    <tr style=\"text-align: right;\">\n",
       "      <th></th>\n",
       "      <th>Outlook</th>\n",
       "      <th>Temperature</th>\n",
       "      <th>Humidity</th>\n",
       "      <th>Windy</th>\n",
       "      <th>Play</th>\n",
       "    </tr>\n",
       "  </thead>\n",
       "  <tbody>\n",
       "    <tr>\n",
       "      <th>0</th>\n",
       "      <td>sunny</td>\n",
       "      <td>hot</td>\n",
       "      <td>high</td>\n",
       "      <td>False</td>\n",
       "      <td>no</td>\n",
       "    </tr>\n",
       "    <tr>\n",
       "      <th>1</th>\n",
       "      <td>sunny</td>\n",
       "      <td>hot</td>\n",
       "      <td>high</td>\n",
       "      <td>True</td>\n",
       "      <td>no</td>\n",
       "    </tr>\n",
       "    <tr>\n",
       "      <th>2</th>\n",
       "      <td>overcast</td>\n",
       "      <td>hot</td>\n",
       "      <td>high</td>\n",
       "      <td>False</td>\n",
       "      <td>yes</td>\n",
       "    </tr>\n",
       "    <tr>\n",
       "      <th>3</th>\n",
       "      <td>rainy</td>\n",
       "      <td>mild</td>\n",
       "      <td>high</td>\n",
       "      <td>False</td>\n",
       "      <td>yes</td>\n",
       "    </tr>\n",
       "    <tr>\n",
       "      <th>4</th>\n",
       "      <td>rainy</td>\n",
       "      <td>cool</td>\n",
       "      <td>normal</td>\n",
       "      <td>False</td>\n",
       "      <td>yes</td>\n",
       "    </tr>\n",
       "    <tr>\n",
       "      <th>5</th>\n",
       "      <td>rainy</td>\n",
       "      <td>cool</td>\n",
       "      <td>normal</td>\n",
       "      <td>True</td>\n",
       "      <td>no</td>\n",
       "    </tr>\n",
       "    <tr>\n",
       "      <th>6</th>\n",
       "      <td>overcast</td>\n",
       "      <td>cool</td>\n",
       "      <td>normal</td>\n",
       "      <td>True</td>\n",
       "      <td>yes</td>\n",
       "    </tr>\n",
       "    <tr>\n",
       "      <th>7</th>\n",
       "      <td>sunny</td>\n",
       "      <td>mild</td>\n",
       "      <td>high</td>\n",
       "      <td>False</td>\n",
       "      <td>no</td>\n",
       "    </tr>\n",
       "    <tr>\n",
       "      <th>8</th>\n",
       "      <td>sunny</td>\n",
       "      <td>cool</td>\n",
       "      <td>normal</td>\n",
       "      <td>False</td>\n",
       "      <td>yes</td>\n",
       "    </tr>\n",
       "    <tr>\n",
       "      <th>9</th>\n",
       "      <td>rainy</td>\n",
       "      <td>mild</td>\n",
       "      <td>normal</td>\n",
       "      <td>False</td>\n",
       "      <td>yes</td>\n",
       "    </tr>\n",
       "    <tr>\n",
       "      <th>10</th>\n",
       "      <td>sunny</td>\n",
       "      <td>mild</td>\n",
       "      <td>normal</td>\n",
       "      <td>True</td>\n",
       "      <td>yes</td>\n",
       "    </tr>\n",
       "    <tr>\n",
       "      <th>11</th>\n",
       "      <td>overcast</td>\n",
       "      <td>mild</td>\n",
       "      <td>high</td>\n",
       "      <td>True</td>\n",
       "      <td>yes</td>\n",
       "    </tr>\n",
       "    <tr>\n",
       "      <th>12</th>\n",
       "      <td>overcast</td>\n",
       "      <td>hot</td>\n",
       "      <td>normal</td>\n",
       "      <td>False</td>\n",
       "      <td>yes</td>\n",
       "    </tr>\n",
       "    <tr>\n",
       "      <th>13</th>\n",
       "      <td>rainy</td>\n",
       "      <td>mild</td>\n",
       "      <td>high</td>\n",
       "      <td>True</td>\n",
       "      <td>no</td>\n",
       "    </tr>\n",
       "  </tbody>\n",
       "</table>\n",
       "</div>"
      ],
      "text/plain": [
       "     Outlook Temperature Humidity  Windy Play\n",
       "0      sunny         hot     high  False   no\n",
       "1      sunny         hot     high   True   no\n",
       "2   overcast         hot     high  False  yes\n",
       "3      rainy        mild     high  False  yes\n",
       "4      rainy        cool   normal  False  yes\n",
       "5      rainy        cool   normal   True   no\n",
       "6   overcast        cool   normal   True  yes\n",
       "7      sunny        mild     high  False   no\n",
       "8      sunny        cool   normal  False  yes\n",
       "9      rainy        mild   normal  False  yes\n",
       "10     sunny        mild   normal   True  yes\n",
       "11  overcast        mild     high   True  yes\n",
       "12  overcast         hot   normal  False  yes\n",
       "13     rainy        mild     high   True   no"
      ]
     },
     "execution_count": 15,
     "metadata": {},
     "output_type": "execute_result"
    }
   ],
   "source": [
    "df"
   ]
  },
  {
   "cell_type": "code",
   "execution_count": 40,
   "id": "49554e48",
   "metadata": {},
   "outputs": [],
   "source": [
    "def divide_data(data, feature):\n",
    "    #here we are working with data freames\n",
    "    \n",
    "    DATA = {}\n",
    "    \n",
    "    feat_values = list(data[feature].value_counts().index)\n",
    "    occurence = list(data[feature].value_counts())\n",
    "    \n",
    "    for val in feat_values:\n",
    "        DATA[val] = {'data' : pd.DataFrame([], columns = data.columns), 'len': 0}\n",
    "        \n",
    "    for ix in range (data.shape[0]):\n",
    "        val = data[feature].iloc[ix]\n",
    "        DATA[val]['data'] = DATA[val]['data'].append(data.iloc[ix])\n",
    "        \n",
    "        idx = feat_values.index(val)\n",
    "        DATA[val]['len'] = occurence[idx]\n",
    "    \n",
    "    return DATA\n",
    "        "
   ]
  },
  {
   "cell_type": "code",
   "execution_count": 41,
   "id": "c2a336d3",
   "metadata": {},
   "outputs": [
    {
     "name": "stderr",
     "output_type": "stream",
     "text": [
      "/var/folders/1d/z37fr91n0wv10sbrhgdnfzjh0000gp/T/ipykernel_69442/93950325.py:14: FutureWarning: The frame.append method is deprecated and will be removed from pandas in a future version. Use pandas.concat instead.\n",
      "  DATA[val]['data'] = DATA[val]['data'].append(data.iloc[ix])\n",
      "/var/folders/1d/z37fr91n0wv10sbrhgdnfzjh0000gp/T/ipykernel_69442/93950325.py:14: FutureWarning: The frame.append method is deprecated and will be removed from pandas in a future version. Use pandas.concat instead.\n",
      "  DATA[val]['data'] = DATA[val]['data'].append(data.iloc[ix])\n",
      "/var/folders/1d/z37fr91n0wv10sbrhgdnfzjh0000gp/T/ipykernel_69442/93950325.py:14: FutureWarning: The frame.append method is deprecated and will be removed from pandas in a future version. Use pandas.concat instead.\n",
      "  DATA[val]['data'] = DATA[val]['data'].append(data.iloc[ix])\n",
      "/var/folders/1d/z37fr91n0wv10sbrhgdnfzjh0000gp/T/ipykernel_69442/93950325.py:14: FutureWarning: The frame.append method is deprecated and will be removed from pandas in a future version. Use pandas.concat instead.\n",
      "  DATA[val]['data'] = DATA[val]['data'].append(data.iloc[ix])\n",
      "/var/folders/1d/z37fr91n0wv10sbrhgdnfzjh0000gp/T/ipykernel_69442/93950325.py:14: FutureWarning: The frame.append method is deprecated and will be removed from pandas in a future version. Use pandas.concat instead.\n",
      "  DATA[val]['data'] = DATA[val]['data'].append(data.iloc[ix])\n",
      "/var/folders/1d/z37fr91n0wv10sbrhgdnfzjh0000gp/T/ipykernel_69442/93950325.py:14: FutureWarning: The frame.append method is deprecated and will be removed from pandas in a future version. Use pandas.concat instead.\n",
      "  DATA[val]['data'] = DATA[val]['data'].append(data.iloc[ix])\n",
      "/var/folders/1d/z37fr91n0wv10sbrhgdnfzjh0000gp/T/ipykernel_69442/93950325.py:14: FutureWarning: The frame.append method is deprecated and will be removed from pandas in a future version. Use pandas.concat instead.\n",
      "  DATA[val]['data'] = DATA[val]['data'].append(data.iloc[ix])\n",
      "/var/folders/1d/z37fr91n0wv10sbrhgdnfzjh0000gp/T/ipykernel_69442/93950325.py:14: FutureWarning: The frame.append method is deprecated and will be removed from pandas in a future version. Use pandas.concat instead.\n",
      "  DATA[val]['data'] = DATA[val]['data'].append(data.iloc[ix])\n",
      "/var/folders/1d/z37fr91n0wv10sbrhgdnfzjh0000gp/T/ipykernel_69442/93950325.py:14: FutureWarning: The frame.append method is deprecated and will be removed from pandas in a future version. Use pandas.concat instead.\n",
      "  DATA[val]['data'] = DATA[val]['data'].append(data.iloc[ix])\n",
      "/var/folders/1d/z37fr91n0wv10sbrhgdnfzjh0000gp/T/ipykernel_69442/93950325.py:14: FutureWarning: The frame.append method is deprecated and will be removed from pandas in a future version. Use pandas.concat instead.\n",
      "  DATA[val]['data'] = DATA[val]['data'].append(data.iloc[ix])\n",
      "/var/folders/1d/z37fr91n0wv10sbrhgdnfzjh0000gp/T/ipykernel_69442/93950325.py:14: FutureWarning: The frame.append method is deprecated and will be removed from pandas in a future version. Use pandas.concat instead.\n",
      "  DATA[val]['data'] = DATA[val]['data'].append(data.iloc[ix])\n",
      "/var/folders/1d/z37fr91n0wv10sbrhgdnfzjh0000gp/T/ipykernel_69442/93950325.py:14: FutureWarning: The frame.append method is deprecated and will be removed from pandas in a future version. Use pandas.concat instead.\n",
      "  DATA[val]['data'] = DATA[val]['data'].append(data.iloc[ix])\n",
      "/var/folders/1d/z37fr91n0wv10sbrhgdnfzjh0000gp/T/ipykernel_69442/93950325.py:14: FutureWarning: The frame.append method is deprecated and will be removed from pandas in a future version. Use pandas.concat instead.\n",
      "  DATA[val]['data'] = DATA[val]['data'].append(data.iloc[ix])\n",
      "/var/folders/1d/z37fr91n0wv10sbrhgdnfzjh0000gp/T/ipykernel_69442/93950325.py:14: FutureWarning: The frame.append method is deprecated and will be removed from pandas in a future version. Use pandas.concat instead.\n",
      "  DATA[val]['data'] = DATA[val]['data'].append(data.iloc[ix])\n"
     ]
    },
    {
     "data": {
      "text/plain": [
       "{False: {'data':      Outlook Temperature Humidity  Windy Play\n",
       "  0      sunny         hot     high  False   no\n",
       "  2   overcast         hot     high  False  yes\n",
       "  3      rainy        mild     high  False  yes\n",
       "  4      rainy        cool   normal  False  yes\n",
       "  7      sunny        mild     high  False   no\n",
       "  8      sunny        cool   normal  False  yes\n",
       "  9      rainy        mild   normal  False  yes\n",
       "  12  overcast         hot   normal  False  yes,\n",
       "  'len': 8},\n",
       " True: {'data':      Outlook Temperature Humidity Windy Play\n",
       "  1      sunny         hot     high  True   no\n",
       "  5      rainy        cool   normal  True   no\n",
       "  6   overcast        cool   normal  True  yes\n",
       "  10     sunny        mild   normal  True  yes\n",
       "  11  overcast        mild     high  True  yes\n",
       "  13     rainy        mild     high  True   no,\n",
       "  'len': 6}}"
      ]
     },
     "execution_count": 41,
     "metadata": {},
     "output_type": "execute_result"
    }
   ],
   "source": [
    "divide_data(df, 'Windy')"
   ]
  },
  {
   "cell_type": "code",
   "execution_count": 36,
   "id": "46bd32a1",
   "metadata": {},
   "outputs": [],
   "source": [
    "#Information Gain\n",
    "\n",
    "    "
   ]
  },
  {
   "cell_type": "code",
   "execution_count": 42,
   "id": "83b3e42a",
   "metadata": {},
   "outputs": [],
   "source": [
    "def information_gain(data, feature):\n",
    "    examples = data.shape[0]\n",
    "    \n",
    "    DATA = divide_data(data, feature)\n",
    "    keys = DATA.keys()\n",
    "    \n",
    "    ent_of_children = 0.0\n",
    "    \n",
    "    for key in keys:\n",
    "        ent_of_children += ( (DATA[key]['len']/examples) * entropy(DATA[key]['data']['Play']) )\n",
    "        \n",
    "    info_gain = entropy(data['Play']) - ent_of_children\n",
    "    return info_gain"
   ]
  },
  {
   "cell_type": "code",
   "execution_count": 43,
   "id": "60653c24",
   "metadata": {},
   "outputs": [
    {
     "name": "stderr",
     "output_type": "stream",
     "text": [
      "/var/folders/1d/z37fr91n0wv10sbrhgdnfzjh0000gp/T/ipykernel_69442/93950325.py:14: FutureWarning: The frame.append method is deprecated and will be removed from pandas in a future version. Use pandas.concat instead.\n",
      "  DATA[val]['data'] = DATA[val]['data'].append(data.iloc[ix])\n",
      "/var/folders/1d/z37fr91n0wv10sbrhgdnfzjh0000gp/T/ipykernel_69442/93950325.py:14: FutureWarning: The frame.append method is deprecated and will be removed from pandas in a future version. Use pandas.concat instead.\n",
      "  DATA[val]['data'] = DATA[val]['data'].append(data.iloc[ix])\n",
      "/var/folders/1d/z37fr91n0wv10sbrhgdnfzjh0000gp/T/ipykernel_69442/93950325.py:14: FutureWarning: The frame.append method is deprecated and will be removed from pandas in a future version. Use pandas.concat instead.\n",
      "  DATA[val]['data'] = DATA[val]['data'].append(data.iloc[ix])\n",
      "/var/folders/1d/z37fr91n0wv10sbrhgdnfzjh0000gp/T/ipykernel_69442/93950325.py:14: FutureWarning: The frame.append method is deprecated and will be removed from pandas in a future version. Use pandas.concat instead.\n",
      "  DATA[val]['data'] = DATA[val]['data'].append(data.iloc[ix])\n",
      "/var/folders/1d/z37fr91n0wv10sbrhgdnfzjh0000gp/T/ipykernel_69442/93950325.py:14: FutureWarning: The frame.append method is deprecated and will be removed from pandas in a future version. Use pandas.concat instead.\n",
      "  DATA[val]['data'] = DATA[val]['data'].append(data.iloc[ix])\n",
      "/var/folders/1d/z37fr91n0wv10sbrhgdnfzjh0000gp/T/ipykernel_69442/93950325.py:14: FutureWarning: The frame.append method is deprecated and will be removed from pandas in a future version. Use pandas.concat instead.\n",
      "  DATA[val]['data'] = DATA[val]['data'].append(data.iloc[ix])\n",
      "/var/folders/1d/z37fr91n0wv10sbrhgdnfzjh0000gp/T/ipykernel_69442/93950325.py:14: FutureWarning: The frame.append method is deprecated and will be removed from pandas in a future version. Use pandas.concat instead.\n",
      "  DATA[val]['data'] = DATA[val]['data'].append(data.iloc[ix])\n",
      "/var/folders/1d/z37fr91n0wv10sbrhgdnfzjh0000gp/T/ipykernel_69442/93950325.py:14: FutureWarning: The frame.append method is deprecated and will be removed from pandas in a future version. Use pandas.concat instead.\n",
      "  DATA[val]['data'] = DATA[val]['data'].append(data.iloc[ix])\n",
      "/var/folders/1d/z37fr91n0wv10sbrhgdnfzjh0000gp/T/ipykernel_69442/93950325.py:14: FutureWarning: The frame.append method is deprecated and will be removed from pandas in a future version. Use pandas.concat instead.\n",
      "  DATA[val]['data'] = DATA[val]['data'].append(data.iloc[ix])\n",
      "/var/folders/1d/z37fr91n0wv10sbrhgdnfzjh0000gp/T/ipykernel_69442/93950325.py:14: FutureWarning: The frame.append method is deprecated and will be removed from pandas in a future version. Use pandas.concat instead.\n",
      "  DATA[val]['data'] = DATA[val]['data'].append(data.iloc[ix])\n",
      "/var/folders/1d/z37fr91n0wv10sbrhgdnfzjh0000gp/T/ipykernel_69442/93950325.py:14: FutureWarning: The frame.append method is deprecated and will be removed from pandas in a future version. Use pandas.concat instead.\n",
      "  DATA[val]['data'] = DATA[val]['data'].append(data.iloc[ix])\n",
      "/var/folders/1d/z37fr91n0wv10sbrhgdnfzjh0000gp/T/ipykernel_69442/93950325.py:14: FutureWarning: The frame.append method is deprecated and will be removed from pandas in a future version. Use pandas.concat instead.\n",
      "  DATA[val]['data'] = DATA[val]['data'].append(data.iloc[ix])\n",
      "/var/folders/1d/z37fr91n0wv10sbrhgdnfzjh0000gp/T/ipykernel_69442/93950325.py:14: FutureWarning: The frame.append method is deprecated and will be removed from pandas in a future version. Use pandas.concat instead.\n",
      "  DATA[val]['data'] = DATA[val]['data'].append(data.iloc[ix])\n",
      "/var/folders/1d/z37fr91n0wv10sbrhgdnfzjh0000gp/T/ipykernel_69442/93950325.py:14: FutureWarning: The frame.append method is deprecated and will be removed from pandas in a future version. Use pandas.concat instead.\n",
      "  DATA[val]['data'] = DATA[val]['data'].append(data.iloc[ix])\n"
     ]
    },
    {
     "data": {
      "text/plain": [
       "0.24674981977443933"
      ]
     },
     "execution_count": 43,
     "metadata": {},
     "output_type": "execute_result"
    }
   ],
   "source": [
    "information_gain(df, 'Outlook')"
   ]
  },
  {
   "cell_type": "code",
   "execution_count": 44,
   "id": "2d014992",
   "metadata": {},
   "outputs": [],
   "source": [
    "#Building a Decision Tree"
   ]
  },
  {
   "cell_type": "code",
   "execution_count": null,
   "id": "d4c85a52",
   "metadata": {},
   "outputs": [],
   "source": []
  },
  {
   "cell_type": "code",
   "execution_count": null,
   "id": "6715e3c5",
   "metadata": {},
   "outputs": [],
   "source": []
  }
 ],
 "metadata": {
  "kernelspec": {
   "display_name": "Python 3 (ipykernel)",
   "language": "python",
   "name": "python3"
  },
  "language_info": {
   "codemirror_mode": {
    "name": "ipython",
    "version": 3
   },
   "file_extension": ".py",
   "mimetype": "text/x-python",
   "name": "python",
   "nbconvert_exporter": "python",
   "pygments_lexer": "ipython3",
   "version": "3.9.12"
  }
 },
 "nbformat": 4,
 "nbformat_minor": 5
}
